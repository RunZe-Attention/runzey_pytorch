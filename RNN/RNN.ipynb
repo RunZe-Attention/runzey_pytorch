{
 "cells": [
  {
   "cell_type": "markdown",
   "id": "b11e0571",
   "metadata": {},
   "source": [
    "#  RNN公式\n",
    "- $h_t = tanh(W_{ih}x_t+b_{ih} + W_{hh}h_{t-1} + b_{hh}$)\n",
    "- $h_t = relu(W_{ih}x_t+b_{ih} + W_{hh}h_{t-1} + b_{hh}$)"
   ]
  },
  {
   "cell_type": "code",
   "execution_count": null,
   "id": "eea136f1",
   "metadata": {},
   "outputs": [],
   "source": []
  }
 ],
 "metadata": {
  "kernelspec": {
   "display_name": "Python 3 (ipykernel)",
   "language": "python",
   "name": "python3"
  },
  "language_info": {
   "codemirror_mode": {
    "name": "ipython",
    "version": 3
   },
   "file_extension": ".py",
   "mimetype": "text/x-python",
   "name": "python",
   "nbconvert_exporter": "python",
   "pygments_lexer": "ipython3",
   "version": "3.7.13"
  }
 },
 "nbformat": 4,
 "nbformat_minor": 5
}
