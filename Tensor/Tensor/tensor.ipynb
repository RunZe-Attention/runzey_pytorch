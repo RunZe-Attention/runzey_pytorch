{
 "cells": [
  {
   "cell_type": "markdown",
   "id": "38af4791",
   "metadata": {},
   "source": [
    "# <font color = 'red'>Pytorch张量介绍 1</font>"
   ]
  },
  {
   "cell_type": "code",
   "execution_count": 11,
   "id": "0d61fda6",
   "metadata": {},
   "outputs": [],
   "source": [
    "import torch\n",
    "import numpy as np"
   ]
  },
  {
   "cell_type": "markdown",
   "id": "08fb146a",
   "metadata": {},
   "source": [
    "### 1.从列表中创建张量"
   ]
  },
  {
   "cell_type": "code",
   "execution_count": 12,
   "id": "dd8e61ed",
   "metadata": {},
   "outputs": [
    {
     "name": "stdout",
     "output_type": "stream",
     "text": [
      "tensor([[1., 2.],\n",
      "        [3., 4.]])\n"
     ]
    }
   ],
   "source": [
    "data = [[1,2],[3,4.]]\n",
    "x_data = torch.tensor(data)\n",
    "print(x_data)\n"
   ]
  },
  {
   "cell_type": "markdown",
   "id": "0db19962",
   "metadata": {},
   "source": [
    "### 2.查看变量类型"
   ]
  },
  {
   "cell_type": "code",
   "execution_count": 13,
   "id": "d852db93",
   "metadata": {},
   "outputs": [
    {
     "name": "stdout",
     "output_type": "stream",
     "text": [
      "<class 'list'>\n",
      "<class 'torch.Tensor'>\n",
      "torch.float32\n"
     ]
    }
   ],
   "source": [
    "print(type(data))\n",
    "print(type(x_data))\n",
    "print(x_data.dtype) # 打印Tensor类型"
   ]
  },
  {
   "cell_type": "markdown",
   "id": "72873503",
   "metadata": {},
   "source": [
    "### 3.从numpy中创建tensor"
   ]
  },
  {
   "cell_type": "code",
   "execution_count": 51,
   "id": "b09b2683",
   "metadata": {},
   "outputs": [
    {
     "name": "stdout",
     "output_type": "stream",
     "text": [
      "[2.39015423 1.8299572 ]\n",
      "tensor([2.3902, 1.8300])\n",
      "<class 'numpy.ndarray'>\n",
      "<class 'torch.Tensor'>\n",
      "---------------------------\n",
      "tensor([1., 1.])\n",
      "<class 'torch.Tensor'>\n",
      "---------------------------\n",
      "tensor([0., 0.])\n",
      "<class 'torch.Tensor'>\n",
      "---------------------------\n",
      "tensor([0.7355, 0.7598])\n",
      "<class 'torch.Tensor'>\n"
     ]
    }
   ],
   "source": [
    "a = np.random.normal((2,3))\n",
    "print(a)\n",
    "b = torch.tensor(a)\n",
    "print(b)\n",
    "print(type(a))\n",
    "print(type(b))\n",
    "print(\"---------------------------\")\n",
    "c = torch.ones_like(b)# 构建一个与b shape一致的全 1 tensor(基于已有张量)\n",
    "print(c)\n",
    "print(type(c))\n",
    "print(\"---------------------------\")\n",
    "\n",
    "c = torch.zeros_like(b)# 构建一个与b shape一致的全 0 tensor(基于已有张量)\n",
    "print(c)\n",
    "print(type(c))\n",
    "print(\"---------------------------\")\n",
    "c = torch.rand_like(b)# 构建一个与b shape一致的随机数 tensor(基于已有张量)\n",
    "print(c)\n",
    "print(type(c))"
   ]
  },
  {
   "cell_type": "markdown",
   "id": "76fb75dc",
   "metadata": {},
   "source": [
    "### 4.一个2 * 2的随机张量"
   ]
  },
  {
   "cell_type": "code",
   "execution_count": 52,
   "id": "d1ff8be7",
   "metadata": {},
   "outputs": [
    {
     "name": "stdout",
     "output_type": "stream",
     "text": [
      "tensor([[0.2421, 0.8330],\n",
      "        [0.2006, 0.5075]])\n",
      "torch.Size([2, 2])\n",
      "torch.float64\n",
      "cpu\n"
     ]
    }
   ],
   "source": [
    "a = torch.rand([2,2],dtype=torch.float64)\n",
    "print(a)\n",
    "print(a.shape)\n",
    "print(a.dtype)\n",
    "print(a.device)"
   ]
  },
  {
   "cell_type": "code",
   "execution_count": 53,
   "id": "ac63e5b8",
   "metadata": {},
   "outputs": [
    {
     "name": "stdout",
     "output_type": "stream",
     "text": [
      "True\n"
     ]
    }
   ],
   "source": [
    "istensor = torch.is_tensor(a) # 判断是否是一个pytorch 的 tensor\n",
    "print(istensor)"
   ]
  },
  {
   "cell_type": "markdown",
   "id": "89911181",
   "metadata": {},
   "source": [
    "### 5.判断cuda是否可用"
   ]
  },
  {
   "cell_type": "code",
   "execution_count": 54,
   "id": "763e685e",
   "metadata": {},
   "outputs": [
    {
     "name": "stdout",
     "output_type": "stream",
     "text": [
      "False\n"
     ]
    }
   ],
   "source": [
    "bCuda = torch.cuda.is_available()\n",
    "print(bCuda)"
   ]
  },
  {
   "cell_type": "markdown",
   "id": "3729fbef",
   "metadata": {},
   "source": [
    "### 6.判断张量是否是浮点类型:is_floating_point"
   ]
  },
  {
   "cell_type": "code",
   "execution_count": 55,
   "id": "dff64f69",
   "metadata": {},
   "outputs": [
    {
     "name": "stdout",
     "output_type": "stream",
     "text": [
      "tensor([4, 5, 6])\n",
      "False\n"
     ]
    }
   ],
   "source": [
    "np_array_int = [4,5,6]\n",
    "tensor_array_int = torch.tensor(np_array_int)\n",
    "print(tensor_array_int)\n",
    "print(torch.is_floating_point(tensor_array_int)) # 输入必须是tensor"
   ]
  },
  {
   "cell_type": "markdown",
   "id": "285733f7",
   "metadata": {},
   "source": [
    "### 7.是否是0的张量:is_nonzero"
   ]
  },
  {
   "cell_type": "code",
   "execution_count": 56,
   "id": "4ab421dd",
   "metadata": {},
   "outputs": [
    {
     "name": "stdout",
     "output_type": "stream",
     "text": [
      "True\n",
      "False\n"
     ]
    }
   ],
   "source": [
    "a = torch.tensor(1.0)\n",
    "print(torch.is_nonzero(a))\n",
    "b = torch.tensor(0.0)\n",
    "print(torch.is_nonzero(b))"
   ]
  },
  {
   "cell_type": "markdown",
   "id": "5427ec49",
   "metadata": {},
   "source": [
    "### 8.返回所有元素的数目:numel"
   ]
  },
  {
   "cell_type": "code",
   "execution_count": 57,
   "id": "6822fc08",
   "metadata": {},
   "outputs": [
    {
     "name": "stdout",
     "output_type": "stream",
     "text": [
      "torch.Size([2, 2])\n",
      "4\n"
     ]
    }
   ],
   "source": [
    "a = torch.rand([2,2],dtype=torch.float64)\n",
    "print(a.shape)\n",
    "print(torch.numel(a))"
   ]
  },
  {
   "cell_type": "markdown",
   "id": "dbb0a854",
   "metadata": {},
   "source": [
    "# 9.全0,1张量:zeros,ones"
   ]
  },
  {
   "cell_type": "code",
   "execution_count": 60,
   "id": "0a4589c4",
   "metadata": {},
   "outputs": [
    {
     "name": "stdout",
     "output_type": "stream",
     "text": [
      "tensor([[0., 0., 0., 0., 0.],\n",
      "        [0., 0., 0., 0., 0.],\n",
      "        [0., 0., 0., 0., 0.],\n",
      "        [0., 0., 0., 0., 0.],\n",
      "        [0., 0., 0., 0., 0.]])\n",
      "torch.float64\n",
      "tensor([[1., 1., 1., 1., 1.],\n",
      "        [1., 1., 1., 1., 1.],\n",
      "        [1., 1., 1., 1., 1.],\n",
      "        [1., 1., 1., 1., 1.],\n",
      "        [1., 1., 1., 1., 1.]])\n",
      "torch.float64\n"
     ]
    }
   ],
   "source": [
    "a = torch.zeros((5,5))\n",
    "print(a)\n",
    "print(a.dtype)\n",
    "\n",
    "a = torch.ones((5,5))\n",
    "print(a)\n",
    "print(a.dtype)"
   ]
  },
  {
   "cell_type": "markdown",
   "id": "c22994a0",
   "metadata": {},
   "source": [
    "### 10.设置全局默认类型:set_default_tensor_type"
   ]
  },
  {
   "cell_type": "code",
   "execution_count": 59,
   "id": "4f4a1c30",
   "metadata": {},
   "outputs": [
    {
     "name": "stdout",
     "output_type": "stream",
     "text": [
      "tensor([[0., 0., 0., 0., 0.],\n",
      "        [0., 0., 0., 0., 0.],\n",
      "        [0., 0., 0., 0., 0.],\n",
      "        [0., 0., 0., 0., 0.],\n",
      "        [0., 0., 0., 0., 0.]])\n",
      "torch.float64\n"
     ]
    }
   ],
   "source": [
    "\n",
    "torch.set_default_tensor_type(torch.DoubleTensor)\n",
    "a = torch.zeros((5,5))\n",
    "print(a)\n",
    "print(a.dtype)\n"
   ]
  },
  {
   "cell_type": "markdown",
   "id": "3103afb1",
   "metadata": {},
   "source": [
    "### 11.生成一个区间tensor:arange(左闭又开)"
   ]
  },
  {
   "cell_type": "code",
   "execution_count": null,
   "id": "56446836",
   "metadata": {},
   "outputs": [],
   "source": [
    "print(torch.arange(start=4,end=10,step=2)) # 如果只转入一个边界 将会默认成end"
   ]
  },
  {
   "cell_type": "markdown",
   "id": "4e1274b7",
   "metadata": {},
   "source": [
    "### 12.生成一个区间tensor:arange(左闭又闭)"
   ]
  },
  {
   "cell_type": "code",
   "execution_count": 65,
   "id": "e895a232",
   "metadata": {},
   "outputs": [
    {
     "name": "stdout",
     "output_type": "stream",
     "text": [
      "tensor([0., 1., 2., 3., 4., 5.])\n"
     ]
    },
    {
     "name": "stderr",
     "output_type": "stream",
     "text": [
      "/Users/yangrunze/opt/anaconda3/envs/py37/lib/python3.7/site-packages/ipykernel_launcher.py:1: UserWarning: torch.range is deprecated and will be removed in a future release because its behavior is inconsistent with Python's range builtin. Instead, use torch.arange, which produces values in [start, end).\n",
      "  \"\"\"Entry point for launching an IPython kernel.\n"
     ]
    }
   ],
   "source": [
    "print(torch.range(start=0,end=5))"
   ]
  },
  {
   "cell_type": "markdown",
   "id": "c713747f",
   "metadata": {},
   "source": [
    "### 13.创建一个对角线张量"
   ]
  },
  {
   "cell_type": "code",
   "execution_count": 69,
   "id": "db5139cb",
   "metadata": {},
   "outputs": [
    {
     "name": "stdout",
     "output_type": "stream",
     "text": [
      "tensor([[1., 0., 0., 0., 0., 0.],\n",
      "        [0., 1., 0., 0., 0., 0.],\n",
      "        [0., 0., 1., 0., 0., 0.],\n",
      "        [0., 0., 0., 1., 0., 0.],\n",
      "        [0., 0., 0., 0., 1., 0.]])\n",
      "tensor([[1., 0., 0., 0., 0., 0.],\n",
      "        [0., 1., 0., 0., 0., 0.],\n",
      "        [0., 0., 1., 0., 0., 0.],\n",
      "        [0., 0., 0., 1., 0., 0.],\n",
      "        [0., 0., 0., 0., 1., 0.],\n",
      "        [0., 0., 0., 0., 0., 1.]])\n"
     ]
    }
   ],
   "source": [
    "print(torch.eye(5,6))\n",
    "print(torch.eye(6))"
   ]
  },
  {
   "cell_type": "markdown",
   "id": "e176a470",
   "metadata": {},
   "source": [
    "### 14.创建一个填充tensor:full\n"
   ]
  },
  {
   "cell_type": "code",
   "execution_count": 70,
   "id": "ed39d6a0",
   "metadata": {},
   "outputs": [
    {
     "name": "stdout",
     "output_type": "stream",
     "text": [
      "tensor([[10, 10],\n",
      "        [10, 10]])\n"
     ]
    }
   ],
   "source": [
    "print(torch.full([2,2],10))"
   ]
  },
  {
   "cell_type": "markdown",
   "id": "32d3c8d7",
   "metadata": {},
   "source": [
    "### 15.对两个tensor在指定维度进行连接:cat"
   ]
  },
  {
   "cell_type": "code",
   "execution_count": 73,
   "id": "c90ff28e",
   "metadata": {},
   "outputs": [
    {
     "name": "stdout",
     "output_type": "stream",
     "text": [
      "tensor([[0.7761, 0.8716, 0.8311, 0.3228, 0.3571],\n",
      "        [0.7811, 0.8868, 0.7696, 0.0177, 0.8769],\n",
      "        [0.1628, 0.1159, 0.7921, 0.6716, 0.4028],\n",
      "        [0.3485, 0.1648, 0.7134, 0.3158, 0.7564],\n",
      "        [0.8160, 0.6631, 0.1561, 0.4971, 0.8466],\n",
      "        [0.4925, 0.9635, 0.7957, 0.5040, 0.4395],\n",
      "        [0.0856, 0.6004, 0.1121, 0.6204, 0.7538],\n",
      "        [0.1291, 0.0642, 0.5383, 0.7846, 0.8816],\n",
      "        [0.6737, 0.1045, 0.9492, 0.0031, 0.9977],\n",
      "        [0.9970, 0.5753, 0.3521, 0.0250, 0.5214]])\n",
      "------------------------------------\n",
      "tensor([[0.8099, 0.8733, 0.5531, 0.4308, 0.0212],\n",
      "        [0.8512, 0.6576, 0.0072, 0.7883, 0.0978],\n",
      "        [0.5406, 0.4226, 0.4241, 0.2395, 0.2492]])\n",
      "------------------------------------\n",
      "tensor([[0.7761, 0.8716, 0.8311, 0.3228, 0.3571],\n",
      "        [0.7811, 0.8868, 0.7696, 0.0177, 0.8769],\n",
      "        [0.1628, 0.1159, 0.7921, 0.6716, 0.4028],\n",
      "        [0.3485, 0.1648, 0.7134, 0.3158, 0.7564],\n",
      "        [0.8160, 0.6631, 0.1561, 0.4971, 0.8466],\n",
      "        [0.4925, 0.9635, 0.7957, 0.5040, 0.4395],\n",
      "        [0.0856, 0.6004, 0.1121, 0.6204, 0.7538],\n",
      "        [0.1291, 0.0642, 0.5383, 0.7846, 0.8816],\n",
      "        [0.6737, 0.1045, 0.9492, 0.0031, 0.9977],\n",
      "        [0.9970, 0.5753, 0.3521, 0.0250, 0.5214],\n",
      "        [0.8099, 0.8733, 0.5531, 0.4308, 0.0212],\n",
      "        [0.8512, 0.6576, 0.0072, 0.7883, 0.0978],\n",
      "        [0.5406, 0.4226, 0.4241, 0.2395, 0.2492]])\n"
     ]
    }
   ],
   "source": [
    "a = torch.rand([10,5])\n",
    "b = torch.rand([3,5])\n",
    "c = torch.cat([a,b],dim=0)\n",
    "print(a)\n",
    "print(\"------------------------------------\")\n",
    "print(b)\n",
    "print(\"------------------------------------\")\n",
    "print(c)"
   ]
  },
  {
   "cell_type": "code",
   "execution_count": null,
   "id": "0c10ea13",
   "metadata": {},
   "outputs": [],
   "source": []
  }
 ],
 "metadata": {
  "kernelspec": {
   "display_name": "Python 3 (ipykernel)",
   "language": "python",
   "name": "python3"
  },
  "language_info": {
   "codemirror_mode": {
    "name": "ipython",
    "version": 3
   },
   "file_extension": ".py",
   "mimetype": "text/x-python",
   "name": "python",
   "nbconvert_exporter": "python",
   "pygments_lexer": "ipython3",
   "version": "3.7.13"
  }
 },
 "nbformat": 4,
 "nbformat_minor": 5
}
