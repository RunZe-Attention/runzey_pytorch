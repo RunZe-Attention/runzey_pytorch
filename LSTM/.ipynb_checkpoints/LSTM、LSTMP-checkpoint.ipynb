{
 "cells": [
  {
   "cell_type": "markdown",
   "id": "4d83efca",
   "metadata": {},
   "source": [
    "# <font color = 'red'> LSTM 单元状态</font>\n",
    "![title](pic/LSTM状态单元.png)"
   ]
  },
  {
   "cell_type": "markdown",
   "id": "844d2201",
   "metadata": {},
   "source": [
    "# <font color = 'red'>LSTM计算公式<font>\n",
    "![title](pic/formula.png)"
   ]
  },
  {
   "cell_type": "markdown",
   "id": "181b0a12",
   "metadata": {},
   "source": [
    "# 1.使用官方API代码\n",
    "\n"
   ]
  }
 ],
 "metadata": {
  "kernelspec": {
   "display_name": "Python 3 (ipykernel)",
   "language": "python",
   "name": "python3"
  },
  "language_info": {
   "codemirror_mode": {
    "name": "ipython",
    "version": 3
   },
   "file_extension": ".py",
   "mimetype": "text/x-python",
   "name": "python",
   "nbconvert_exporter": "python",
   "pygments_lexer": "ipython3",
   "version": "3.7.13"
  }
 },
 "nbformat": 4,
 "nbformat_minor": 5
}
