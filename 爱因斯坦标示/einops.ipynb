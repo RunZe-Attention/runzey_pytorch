{
 "cells": [
  {
   "cell_type": "code",
   "execution_count": 3,
   "id": "917bae76",
   "metadata": {},
   "outputs": [],
   "source": [
    "import torch\n",
    "import torch.nn as nn\n",
    "import torch.nn.functional as F\n",
    "from einops import rearrange, reduce, repeat\n",
    "\n",
    "x = torch.randn(2,3,4,5) #[bs,i,h,w]"
   ]
  },
  {
   "cell_type": "markdown",
   "id": "c0232659",
   "metadata": {},
   "source": [
    "# <font color = 'red'>爱因斯坦标示法提供了非常便于理解的tensor变换过程</font>"
   ]
  },
  {
   "cell_type": "markdown",
   "id": "3a2fdf78",
   "metadata": {},
   "source": [
    "# 转置"
   ]
  },
  {
   "cell_type": "code",
   "execution_count": 4,
   "id": "01932cec",
   "metadata": {},
   "outputs": [
    {
     "name": "stdout",
     "output_type": "stream",
     "text": [
      "torch.Size([2, 3, 4, 5])\n",
      "True\n"
     ]
    }
   ],
   "source": [
    "# 1.transpose\n",
    "out1 = x.transpose(1,2)\n",
    "out2 = rearrange(x,\"b i h w -> b h i w\")\n",
    "print(x.shape)\n",
    "flag = torch.allclose(out1,out2)\n",
    "print(flag)"
   ]
  },
  {
   "cell_type": "markdown",
   "id": "2022eb1e",
   "metadata": {},
   "source": [
    "# reshape"
   ]
  },
  {
   "cell_type": "code",
   "execution_count": 5,
   "id": "798ef8e3",
   "metadata": {},
   "outputs": [
    {
     "name": "stdout",
     "output_type": "stream",
     "text": [
      "True\n",
      "torch.Size([2, 3, 4, 5])\n"
     ]
    }
   ],
   "source": [
    "# 2.reshape\n",
    "out1 = x.reshape(6,4,5)\n",
    "out2 = rearrange(x,\"b i h w -> (b i) h w\")\n",
    "out3 = rearrange(out2,\"(b i) h w -> b i h w\",b=2)\n",
    "flag = torch.allclose(out1,out2)\n",
    "print(flag)\n",
    "print(out3.shape)"
   ]
  },
  {
   "cell_type": "markdown",
   "id": "656e0172",
   "metadata": {},
   "source": [
    "# 3.image2patch"
   ]
  },
  {
   "cell_type": "code",
   "execution_count": 6,
   "id": "f719a5cc",
   "metadata": {},
   "outputs": [
    {
     "name": "stdout",
     "output_type": "stream",
     "text": [
      "torch.Size([2, 4, 12])\n"
     ]
    }
   ],
   "source": [
    "x_image = torch.randn(2,3,4,4)\n",
    "out1 = rearrange(x_image,\"b ic (h1 p1) (w1 p2) -> b ic (h1 w1) (p1 p2)\",p1=2,p2=2)\n",
    "out2 = rearrange(out1,\"b ic n p -> b n (ic p)\")\n",
    "print(out2.shape)"
   ]
  },
  {
   "cell_type": "markdown",
   "id": "6bcd3d30",
   "metadata": {},
   "source": [
    "# 4.求平均池化"
   ]
  },
  {
   "cell_type": "code",
   "execution_count": 7,
   "id": "0f77dc44",
   "metadata": {},
   "outputs": [
    {
     "name": "stdout",
     "output_type": "stream",
     "text": [
      "torch.Size([2, 3, 4, 5])\n",
      "torch.Size([2, 3, 4])\n",
      "torch.Size([2, 3, 4])\n",
      "torch.Size([2, 3])\n"
     ]
    }
   ],
   "source": [
    "out1 = reduce(x,\"b i h w -> b i h\",\"mean\")\n",
    "print(x.shape)\n",
    "print(out1.shape)\n",
    "\n",
    "out2 = reduce(x,\"b i h w -> b i h\",\"sum\")\n",
    "print(out2.shape)\n",
    "\n",
    "out3 = reduce(x,\"b i h w -> b i\",\"max\")\n",
    "print(out3.shape)"
   ]
  },
  {
   "cell_type": "markdown",
   "id": "469b3bc0",
   "metadata": {},
   "source": [
    "# 5.堆叠张量"
   ]
  },
  {
   "cell_type": "code",
   "execution_count": 8,
   "id": "a72b2a9e",
   "metadata": {},
   "outputs": [
    {
     "name": "stdout",
     "output_type": "stream",
     "text": [
      "torch.Size([3, 2, 3, 4, 5])\n"
     ]
    }
   ],
   "source": [
    "tensor_list = [x,x,x]\n",
    "out1 = rearrange(tensor_list,\"n b i h w -> n b i h w\")\n",
    "print(out1.shape)"
   ]
  },
  {
   "cell_type": "markdown",
   "id": "070244f6",
   "metadata": {},
   "source": [
    "# 6.扩维"
   ]
  },
  {
   "cell_type": "code",
   "execution_count": 9,
   "id": "0a5d8695",
   "metadata": {},
   "outputs": [
    {
     "name": "stdout",
     "output_type": "stream",
     "text": [
      "torch.Size([2, 3, 4, 5, 1])\n"
     ]
    }
   ],
   "source": [
    "out1 = rearrange(x,\"b i h w -> b i h w 1\") # 类似于torch.unsqueece\n",
    "print(out1.shape)"
   ]
  },
  {
   "cell_type": "markdown",
   "id": "6135e344",
   "metadata": {},
   "source": [
    "# 7.复制"
   ]
  },
  {
   "cell_type": "code",
   "execution_count": 10,
   "id": "feceb888",
   "metadata": {},
   "outputs": [
    {
     "name": "stdout",
     "output_type": "stream",
     "text": [
      "torch.Size([2, 3, 4, 5, 2])\n"
     ]
    }
   ],
   "source": [
    "out2 = repeat(out1,\"b i h w 1 -> b i h w 2\") # 类似于torch.tile\n",
    "print(out2.shape)"
   ]
  },
  {
   "cell_type": "markdown",
   "id": "4c1318ef",
   "metadata": {},
   "source": [
    "# 8.对后面的两个维度复制两份"
   ]
  },
  {
   "cell_type": "code",
   "execution_count": 11,
   "id": "11159ba7",
   "metadata": {},
   "outputs": [
    {
     "name": "stdout",
     "output_type": "stream",
     "text": [
      "torch.Size([2, 3, 8, 8])\n"
     ]
    }
   ],
   "source": [
    "out3 = repeat(x_image,\"b i h w -> b i (h 2) (w 2)\")\n",
    "print(out3.shape)\n"
   ]
  },
  {
   "cell_type": "code",
   "execution_count": null,
   "id": "12f94c37",
   "metadata": {},
   "outputs": [],
   "source": []
  }
 ],
 "metadata": {
  "kernelspec": {
   "display_name": "Python 3 (ipykernel)",
   "language": "python",
   "name": "python3"
  },
  "language_info": {
   "codemirror_mode": {
    "name": "ipython",
    "version": 3
   },
   "file_extension": ".py",
   "mimetype": "text/x-python",
   "name": "python",
   "nbconvert_exporter": "python",
   "pygments_lexer": "ipython3",
   "version": "3.7.13"
  }
 },
 "nbformat": 4,
 "nbformat_minor": 5
}
