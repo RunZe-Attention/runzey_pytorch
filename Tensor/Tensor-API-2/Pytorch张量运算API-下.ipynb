{
 "cells": [
  {
   "cell_type": "code",
   "execution_count": 24,
   "id": "040fb099",
   "metadata": {},
   "outputs": [],
   "source": [
    "import torch"
   ]
  },
  {
   "cell_type": "markdown",
   "id": "5f103714",
   "metadata": {},
   "source": [
    "# torch.take"
   ]
  },
  {
   "cell_type": "code",
   "execution_count": 25,
   "id": "e93dc2fe",
   "metadata": {},
   "outputs": [
    {
     "name": "stdout",
     "output_type": "stream",
     "text": [
      "原始输入\n",
      "tensor([[ 1,  2,  3,  4,  5],\n",
      "        [ 6,  7,  8,  9, 10]])\n",
      "取索引为0、2、5方面的值\n",
      "tensor([1, 3, 6])\n"
     ]
    }
   ],
   "source": [
    "src = torch.arange(1, 11).reshape(2, 5)\n",
    "print(\"原始输入\")\n",
    "print(src)\n",
    "print(\"取索引为0、2、5方面的值\")\n",
    "print(torch.take(src,torch.tensor([0, 2, 5])))"
   ]
  },
  {
   "cell_type": "markdown",
   "id": "3105a1ba",
   "metadata": {},
   "source": [
    "# torch.tile\n"
   ]
  },
  {
   "cell_type": "code",
   "execution_count": 26,
   "id": "9497f8fc",
   "metadata": {},
   "outputs": [
    {
     "name": "stdout",
     "output_type": "stream",
     "text": [
      "原始输入\n",
      "tensor([[0.4231, 0.4308, 0.8707],\n",
      "        [0.1037, 0.9457, 0.7375],\n",
      "        [0.5500, 0.7777, 0.3454],\n",
      "        [0.0587, 0.9838, 0.5693]])\n",
      "对行复制2份\n",
      "tensor([[0.4231, 0.4308, 0.8707],\n",
      "        [0.1037, 0.9457, 0.7375],\n",
      "        [0.5500, 0.7777, 0.3454],\n",
      "        [0.0587, 0.9838, 0.5693],\n",
      "        [0.4231, 0.4308, 0.8707],\n",
      "        [0.1037, 0.9457, 0.7375],\n",
      "        [0.5500, 0.7777, 0.3454],\n",
      "        [0.0587, 0.9838, 0.5693]])\n",
      "对列复制2份\n",
      "tensor([[0.4231, 0.4308, 0.8707, 0.4231, 0.4308, 0.8707],\n",
      "        [0.1037, 0.9457, 0.7375, 0.1037, 0.9457, 0.7375],\n",
      "        [0.5500, 0.7777, 0.3454, 0.5500, 0.7777, 0.3454],\n",
      "        [0.0587, 0.9838, 0.5693, 0.0587, 0.9838, 0.5693]])\n"
     ]
    }
   ],
   "source": [
    "a = torch.rand([4,3])\n",
    "print(\"原始输入\")\n",
    "print(a)\n",
    "\n",
    "print(\"对行复制2份\")\n",
    "a_tiled = torch.tile(a,[2,1])\n",
    "print(a_tiled)\n",
    "\n",
    "print(\"对列复制2份\")\n",
    "b_tiled = torch.tile(a,[1,2])\n",
    "print(b_tiled)"
   ]
  },
  {
   "cell_type": "markdown",
   "id": "b048dad1",
   "metadata": {},
   "source": [
    "# torch.transpose"
   ]
  },
  {
   "cell_type": "code",
   "execution_count": 27,
   "id": "0cdf13ab",
   "metadata": {},
   "outputs": [
    {
     "name": "stdout",
     "output_type": "stream",
     "text": [
      "原始输入\n",
      "tensor([[0.8382, 0.2122, 0.0416],\n",
      "        [0.4322, 0.3460, 0.4350],\n",
      "        [0.5954, 0.9417, 0.2092],\n",
      "        [0.8786, 0.7743, 0.3844]])\n",
      "矩阵转置\n",
      "tensor([[0.8382, 0.4322, 0.5954, 0.8786],\n",
      "        [0.2122, 0.3460, 0.9417, 0.7743],\n",
      "        [0.0416, 0.4350, 0.2092, 0.3844]])\n"
     ]
    }
   ],
   "source": [
    "a = torch.rand([4,3])\n",
    "print(\"原始输入\")\n",
    "print(a)\n",
    "print(\"矩阵转置\")\n",
    "b = torch.transpose(a,0,1)\n",
    "print(b)"
   ]
  },
  {
   "cell_type": "markdown",
   "id": "51f0dbd3",
   "metadata": {},
   "source": [
    "# torch.unbind"
   ]
  },
  {
   "cell_type": "code",
   "execution_count": 28,
   "id": "faa5a15f",
   "metadata": {},
   "outputs": [
    {
     "name": "stdout",
     "output_type": "stream",
     "text": [
      "原始张量\n",
      "tensor([[0.0678, 0.7744, 0.2543],\n",
      "        [0.4660, 0.2238, 0.7283],\n",
      "        [0.0984, 0.9216, 0.5059],\n",
      "        [0.5221, 0.1730, 0.2826]])\n",
      "沿着 0 维度 解绑后的张量\n",
      "tensor([0.0678, 0.7744, 0.2543])\n",
      "tensor([0.4660, 0.2238, 0.7283])\n",
      "tensor([0.0984, 0.9216, 0.5059])\n",
      "tensor([0.5221, 0.1730, 0.2826])\n",
      "沿着 1 维度 解绑后的张量\n",
      "tensor([0.0678, 0.4660, 0.0984, 0.5221])\n",
      "tensor([0.7744, 0.2238, 0.9216, 0.1730])\n",
      "tensor([0.2543, 0.7283, 0.5059, 0.2826])\n",
      "3维张量\n",
      "原始输入\n",
      "tensor([[[0.5715, 0.7657, 0.6000, 0.8430],\n",
      "         [0.6568, 0.3840, 0.3456, 0.7582],\n",
      "         [0.7608, 0.8801, 0.8398, 0.4249]],\n",
      "\n",
      "        [[0.7610, 0.6894, 0.9941, 0.9839],\n",
      "         [0.9273, 0.2136, 0.6359, 0.0452],\n",
      "         [0.2692, 0.9333, 0.8010, 0.7149]]])\n",
      "沿着 0 维度 解绑后的张量\n",
      "tensor([[0.5715, 0.7657, 0.6000, 0.8430],\n",
      "        [0.6568, 0.3840, 0.3456, 0.7582],\n",
      "        [0.7608, 0.8801, 0.8398, 0.4249]])\n",
      "tensor([[0.7610, 0.6894, 0.9941, 0.9839],\n",
      "        [0.9273, 0.2136, 0.6359, 0.0452],\n",
      "        [0.2692, 0.9333, 0.8010, 0.7149]])\n"
     ]
    }
   ],
   "source": [
    "print(\"原始张量\")\n",
    "t = torch.rand([4,3])# 正太分布\n",
    "print(t)\n",
    "unbind_t1,unbind_t2,unbind_t3,unbind_t4= torch.unbind(t,dim=0) \n",
    "\n",
    "print(\"沿着 0 维度 解绑后的张量\")\n",
    "print(unbind_t1)\n",
    "print(unbind_t2)\n",
    "print(unbind_t3)\n",
    "print(unbind_t4)\n",
    "\n",
    "unbind_t1,unbind_t2,unbind_t3= torch.unbind(t,dim=1) \n",
    "\n",
    "\n",
    "print(\"沿着 1 维度 解绑后的张量\")\n",
    "print(unbind_t1)\n",
    "print(unbind_t2)\n",
    "print(unbind_t3)\n",
    "\n",
    "print(\"3维张量\")\n",
    "t = torch.rand([2,3,4])\n",
    "print(\"原始输入\")\n",
    "print(t)\n",
    "print(\"沿着 0 维度 解绑后的张量\")\n",
    "unbind_t1,unbind_t2= torch.unbind(t,dim=0) \n",
    "print(unbind_t1)\n",
    "print(unbind_t2)"
   ]
  },
  {
   "cell_type": "markdown",
   "id": "32a28447",
   "metadata": {},
   "source": [
    "# torch.unsqueeze"
   ]
  },
  {
   "cell_type": "code",
   "execution_count": 35,
   "id": "f69b3893",
   "metadata": {},
   "outputs": [
    {
     "name": "stdout",
     "output_type": "stream",
     "text": [
      "原始输入\n",
      "torch.Size([4])\n",
      "扩维后的张量\n",
      "torch.Size([1, 4])\n",
      "----------------------------------------------------------------------\n",
      "torch.Size([2, 3, 4])\n",
      "torch.Size([1, 2, 3, 4])\n",
      "torch.Size([2, 3, 4, 1])\n"
     ]
    }
   ],
   "source": [
    "t = torch.tensor([1,2,3,4])\n",
    "print(\"原始输入\")\n",
    "print(t.shape)\n",
    "t = torch.unsqueeze(t,dim=0)\n",
    "print(\"扩维后的张量\")\n",
    "print(t.shape)\n",
    "\n",
    "print(\"----------------------------------------------------------------------\")\n",
    "t = torch.rand([2,3,4])\n",
    "print(t.shape)\n",
    "print(torch.unsqueeze(t,dim=0).shape)\n",
    "print(torch.unsqueeze(t,dim=-1).shape)"
   ]
  },
  {
   "cell_type": "markdown",
   "id": "77740036",
   "metadata": {},
   "source": [
    "# torch.where 三目运算符\n"
   ]
  },
  {
   "cell_type": "code",
   "execution_count": 36,
   "id": "cfa7c50b",
   "metadata": {},
   "outputs": [
    {
     "name": "stdout",
     "output_type": "stream",
     "text": [
      "tensor([[ 1.0306, -0.1107],\n",
      "        [ 0.8425, -0.6103],\n",
      "        [-1.4706,  0.2547]])\n",
      "tensor([[1., 1.],\n",
      "        [1., 1.],\n",
      "        [1., 1.]])\n",
      "x中整数的位置进行保存,负数的地方用1代替\n",
      "tensor([[1.0306, 1.0000],\n",
      "        [0.8425, 1.0000],\n",
      "        [1.0000, 0.2547]])\n"
     ]
    }
   ],
   "source": [
    "x = torch.randn([3, 2]) #使用高斯分布进行随机\n",
    "print(x)\n",
    "y = torch.ones([3,2])\n",
    "print(y)\n",
    "\n",
    "print(\"x中整数的位置进行保存,负数的地方用1代替\")\n",
    "z = torch.where(x>0,x,y) \n",
    "print(z)"
   ]
  },
  {
   "cell_type": "code",
   "execution_count": 37,
   "id": "83500ff1",
   "metadata": {},
   "outputs": [
    {
     "name": "stdout",
     "output_type": "stream",
     "text": [
      "tensor([[ 1.0635, -0.6477],\n",
      "        [ 0.0929, -0.9522]], dtype=torch.float64)\n",
      "tensor([[1.0635, 2.0000],\n",
      "        [0.0929, 2.0000]], dtype=torch.float64)\n"
     ]
    }
   ],
   "source": [
    "a = torch.randn(2,2,dtype=torch.double)\n",
    "print(a)\n",
    "# b = torch.where(a>0,x,2.)\n",
    "b = torch.where(a > 0, a, 2.)\n",
    "print(b)"
   ]
  },
  {
   "cell_type": "markdown",
   "id": "477996d1",
   "metadata": {},
   "source": [
    "# torch.manual_seed 手动设置随机种子"
   ]
  },
  {
   "cell_type": "code",
   "execution_count": 38,
   "id": "67c57ac1",
   "metadata": {},
   "outputs": [
    {
     "name": "stdout",
     "output_type": "stream",
     "text": [
      "<torch._C.Generator object at 0x7ff3e5486390>\n"
     ]
    }
   ],
   "source": [
    "a = torch.manual_seed(1)\n",
    "print(a)"
   ]
  },
  {
   "cell_type": "markdown",
   "id": "6bb5d35d",
   "metadata": {},
   "source": [
    "# torch.normal"
   ]
  },
  {
   "cell_type": "code",
   "execution_count": 46,
   "id": "136d5a7f",
   "metadata": {},
   "outputs": [
    {
     "name": "stdout",
     "output_type": "stream",
     "text": [
      "从均值为2,方差为3的分布中采样一个1 * 4的矩阵\n",
      "tensor([[-2.7180,  1.6303, 12.7610, -3.4939]])\n",
      "------------------------------------------------------------------------------------------------\n",
      "tensor([ 1.,  2.,  3.,  4.,  5.,  6.,  7.,  8.,  9., 10.])\n",
      "tensor([1.0000, 0.9000, 0.8000, 0.7000, 0.6000, 0.5000, 0.4000, 0.3000, 0.2000,\n",
      "        0.1000])\n",
      "tensor([ 2.5987,  0.8507,  3.2604,  3.6646,  5.8274,  7.2643,  7.1643,  7.7036,\n",
      "         8.8184, 10.0542])\n"
     ]
    }
   ],
   "source": [
    "print(\"从均值为2,方差为3的分布中采样一个1 * 4的矩阵\")\n",
    "t = torch.normal(2,3,size=(1,4))\n",
    "print(t)\n",
    "\n",
    "print(\"------------------------------------------------------------------------------------------------\")\n",
    "mean = torch.arange(1., 11.)\n",
    "std = torch.arange(1, 0, -0.1)\n",
    "print(Mean)\n",
    "print(Std)\n",
    "Gaussian = torch.normal(mean=mean, std=std)\n",
    "print(Gaussian)"
   ]
  },
  {
   "cell_type": "markdown",
   "id": "6570dae1",
   "metadata": {},
   "source": [
    "# torch.roll  张量的循环滚动"
   ]
  },
  {
   "cell_type": "code",
   "execution_count": 45,
   "id": "87ea15b9",
   "metadata": {},
   "outputs": [
    {
     "name": "stdout",
     "output_type": "stream",
     "text": [
      "------torch.roll算子默认的是向右和下循环滚动的------\n",
      "张量原始输入\n",
      "tensor([[ 1,  2,  3,  4],\n",
      "        [ 5,  6,  7,  8],\n",
      "        [ 9, 10, 11, 12],\n",
      "        [13, 14, 15, 16]])\n",
      "将最后一列循环滚动到第一列来\n",
      "tensor([[ 4,  1,  2,  3],\n",
      "        [ 8,  5,  6,  7],\n",
      "        [12,  9, 10, 11],\n",
      "        [16, 13, 14, 15]])\n",
      "将第一列循环滚动到最后一列去\n",
      "tensor([[ 2,  3,  4,  1],\n",
      "        [ 6,  7,  8,  5],\n",
      "        [10, 11, 12,  9],\n",
      "        [14, 15, 16, 13]])\n"
     ]
    }
   ],
   "source": [
    "print(\"------torch.roll算子默认的是向右和下循环滚动的------\")\n",
    "x = torch.tensor([1, 2, 3, 4, 5, 6, 7, 8,9,10,11,12,13,14,15,16]).view(4, 4)\n",
    "\n",
    "print(\"张量原始输入\")\n",
    "print(x)\n",
    "\n",
    "print(\"将最后一列循环滚动到第一列来\")\n",
    "a1 = torch.roll(x,shifts=(1),dims=(1))\n",
    "print(a1)\n",
    "print(\"将第一列循环滚动到最后一列去\")\n",
    "a2 = torch.roll(x,shifts=(-1),dims=(1))\n",
    "print(a2)\n"
   ]
  },
  {
   "cell_type": "markdown",
   "id": "7554f64d",
   "metadata": {},
   "source": [
    "# torch.randperm"
   ]
  },
  {
   "cell_type": "code",
   "execution_count": 47,
   "id": "c3d5e6d9",
   "metadata": {},
   "outputs": [
    {
     "name": "stdout",
     "output_type": "stream",
     "text": [
      "tensor([1, 0, 3, 2])\n"
     ]
    }
   ],
   "source": [
    "print(\"传入上界 并进行shuffle\")\n",
    "print(torch.randperm(4))"
   ]
  },
  {
   "cell_type": "code",
   "execution_count": null,
   "id": "138d2487",
   "metadata": {},
   "outputs": [],
   "source": []
  }
 ],
 "metadata": {
  "kernelspec": {
   "display_name": "Python 3 (ipykernel)",
   "language": "python",
   "name": "python3"
  },
  "language_info": {
   "codemirror_mode": {
    "name": "ipython",
    "version": 3
   },
   "file_extension": ".py",
   "mimetype": "text/x-python",
   "name": "python",
   "nbconvert_exporter": "python",
   "pygments_lexer": "ipython3",
   "version": "3.7.13"
  }
 },
 "nbformat": 4,
 "nbformat_minor": 5
}
