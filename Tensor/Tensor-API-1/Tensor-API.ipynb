{
 "cells": [
  {
   "cell_type": "code",
   "execution_count": 2,
   "id": "72c3238a",
   "metadata": {},
   "outputs": [],
   "source": [
    "import torch"
   ]
  },
  {
   "cell_type": "code",
   "execution_count": 3,
   "id": "919bf12c",
   "metadata": {},
   "outputs": [
    {
     "name": "stdout",
     "output_type": "stream",
     "text": [
      "tensor([[0.2568, 0.8291],\n",
      "        [0.5609, 0.9310],\n",
      "        [0.8685, 0.7991]])\n",
      "(tensor([[0.2568, 0.8291],\n",
      "        [0.5609, 0.9310]]), tensor([[0.8685, 0.7991]]))\n",
      "(tensor([[0.2568],\n",
      "        [0.5609],\n",
      "        [0.8685]]), tensor([[0.8291],\n",
      "        [0.9310],\n",
      "        [0.7991]]))\n"
     ]
    }
   ],
   "source": [
    "# chunk\n",
    "chunk_tesor = torch.rand([3,2])\n",
    "print(chunk_tesor)\n",
    "a = torch.chunk(chunk_tesor,chunks=2)\n",
    "print(a)\n",
    "b = torch.chunk(chunk_tesor,chunks=2,dim=1)\n",
    "print(b)"
   ]
  },
  {
   "cell_type": "code",
   "execution_count": null,
   "id": "8016bdf4",
   "metadata": {},
   "outputs": [],
   "source": []
  },
  {
   "cell_type": "code",
   "execution_count": null,
   "id": "d9f78985",
   "metadata": {},
   "outputs": [],
   "source": []
  }
 ],
 "metadata": {
  "kernelspec": {
   "display_name": "Python 3 (ipykernel)",
   "language": "python",
   "name": "python3"
  },
  "language_info": {
   "codemirror_mode": {
    "name": "ipython",
    "version": 3
   },
   "file_extension": ".py",
   "mimetype": "text/x-python",
   "name": "python",
   "nbconvert_exporter": "python",
   "pygments_lexer": "ipython3",
   "version": "3.7.13"
  }
 },
 "nbformat": 4,
 "nbformat_minor": 5
}