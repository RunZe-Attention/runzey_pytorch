{
 "cells": [
  {
   "cell_type": "markdown",
   "id": "0c4065e1",
   "metadata": {},
   "source": [
    "# 一、Transformer中使用三角函数的位置编码\n",
    "- 1d absolute\n",
    "- sin/cos constant"
   ]
  },
  {
   "cell_type": "markdown",
   "id": "f85ef1d4",
   "metadata": {},
   "source": [
    "$PE_{(pos,2i)} = sin(\\frac{pos}{10000^{ \\frac{2i}{d_{model}}}})$"
   ]
  },
  {
   "cell_type": "markdown",
   "id": "5c58c891",
   "metadata": {},
   "source": [
    "$PE_{(pos,2i+1)} = cos(\\frac{pos}{10000^{ \\frac{2i}{d_{model}}}})$"
   ]
  },
  {
   "cell_type": "code",
   "execution_count": null,
   "id": "63067fbe",
   "metadata": {},
   "outputs": [],
   "source": [
    "def create_1d_absolute_sincos_embeddings(pos_vec,dim):\n",
    "        assert dim % 2 == 0,\"wrong dimension\"\n",
    "        \n",
    "        "
   ]
  },
  {
   "cell_type": "code",
   "execution_count": null,
   "id": "17bad761",
   "metadata": {},
   "outputs": [],
   "source": []
  }
 ],
 "metadata": {
  "kernelspec": {
   "display_name": "Python 3 (ipykernel)",
   "language": "python",
   "name": "python3"
  },
  "language_info": {
   "codemirror_mode": {
    "name": "ipython",
    "version": 3
   },
   "file_extension": ".py",
   "mimetype": "text/x-python",
   "name": "python",
   "nbconvert_exporter": "python",
   "pygments_lexer": "ipython3",
   "version": "3.7.13"
  }
 },
 "nbformat": 4,
 "nbformat_minor": 5
}
